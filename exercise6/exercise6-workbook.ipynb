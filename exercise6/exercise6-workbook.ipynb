{
 "cells": [
  {
   "cell_type": "markdown",
   "id": "999f1565-9c2e-446f-ac47-23842440bc3c",
   "metadata": {},
   "source": [
    "# Exercise 5: the formation of molecular oxygen using molecular orbital theory\n",
    "\n",
    "This exercise examines the formation of **triplet oxygen**, the most stable and most common allotropic form of O$_2$. Triplet oxygen has two electrons in its two **degenerate** (i.e., having the same energy, or, more formally, two distinct microstates corresponding to the same macrostate) $\\pi^*$ orbitals. There are four independent spin states arising from these two spin-1/2 electrons, and so there are a total of $\\binom{4}{2}=6$ possible ways (microstates) to arrange the two electrons into the two degenerate $\\pi^*$ orbitals. Here, we will only consider the triply-degenerate ground state: according to **Hund's rules**, the configuration with two unpaired electrons in two $\\pi^*$ orbitals is energetically favoured.\n",
    "\n",
    "In the following, you will generate a [molecular orbital schema](https://en.wikipedia.org/wiki/Triplet_oxygen#/media/File:Valence_orbitals_of_oxygen_atom_and_dioxygen_molecule_(diagram).svg) for triplet oxygen, that is, the configuration for which the total spin equals 1."
   ]
  },
  {
   "attachments": {},
   "cell_type": "markdown",
   "id": "dfdbbd4e-83d1-4d01-8b95-f781352dfb15",
   "metadata": {},
   "source": [
    "## 1. Introduction\n",
    "\n",
    "Log into your account on `JupyterHub` in a similar manner as described in previous exercises, and `pull` the newest exercise files from the GitHub repository:\n",
    "```bash\n",
    "    $ git init\n",
    "  # $ git stash\n",
    "    $ git pull https://github.com/ramador09/Molecular-and-Materials-Modelling-FS2023.git\n",
    "    $ cd exercise-6_files\n",
    "```\n",
    "## 2. The triplet molecule\n",
    "### 2.1 The input file: a closer look\n",
    "\n",
    "Move into the directory for the triplet molecule and open the input file. There is some new syntax in the input file, including use of the `@`, `$`, and `{}`characters. We will go through them briefly here as well as live in the exercise:\n",
    "\n",
    "* `@`: in the combination `@SET`, this command at the beginning of an input file allows us to define variables which we will reference later in the input file\n",
    "* `$`: syntax inherited from Unix: used to indicate that a variable will be referred to; requires curly braces `{}` afterwards\n",
    "* `{}`: encloses the name of a variable to be referred to\n",
    "\n",
    "This syntax is best illustrated by perusing the input file. Furthermore, the lines \n",
    "\n",
    "```\n",
    "&E_DENSITY_CUBE\n",
    "&END E_DENSITY_CUBE\n",
    "NLUMO 1\n",
    "NHOMO 1\n",
    "```\n",
    "in the `&PRINT` subsection in `&DFT` will generate the files that we will use for this exercise.\n",
    "\n",
    "The submit script (almost identical to that of exercise 3) is:\n",
    "\n",
    "```\n",
    "#!/bin/bash\n",
    "\n",
    "#SBATCH -N 1\n",
    "#SBATCH -n 1\n",
    "#SBATCH --time=4:00:00\n",
    "#SBATCH --job-name=\"nice name\"\n",
    "#SBATCH --mem-per-cpu=1024\n",
    "#SBATCH --output=stdout.txt\n",
    "#SBATCH --error=stderr.txt\n",
    "\n",
    "# module load openmpi/4.0.2\n",
    "# module load gcc/6.3.0 openmpi/4.0.2 cp2k/8.2\n",
    "INP=triplet.inp\n",
    "OUT=triplet.out\n",
    "/cluster/scratch/danielep/cp2k.ssmp -i triplet.inp > triplet.out\n",
    "```\n",
    "\n",
    "Make sure the input file and submit script are in the same directory and submit the geometry optimization; it shouldn't take so long to run. Import some necessary packages and libraries by executing the following cell:"
   ]
  },
  {
   "cell_type": "code",
   "execution_count": 1,
   "id": "7fcab808-08de-4da0-886c-5893dfc72ac0",
   "metadata": {},
   "outputs": [
    {
     "data": {
      "application/vnd.jupyter.widget-view+json": {
       "model_id": "1dd0ffab825d4f55a545960b86b28ed2",
       "version_major": 2,
       "version_minor": 0
      },
      "text/plain": []
     },
     "metadata": {},
     "output_type": "display_data"
    }
   ],
   "source": [
    "from ase.visualize import view\n",
    "from ase.io import read\n",
    "import nglview as nv"
   ]
  },
  {
   "cell_type": "markdown",
   "id": "fdc21211-e622-4a92-a2f1-e709fbe88545",
   "metadata": {},
   "source": [
    "### 2.2: visualization of the electronic density\n",
    "\n",
    "Once the job has concluded, open one of the `.cube` output files. These types of files are used by CP2K and many other electronic structure programs to store spin, orbital, or electronic density values on a three-dimensional grid. Some good documentation can be found [here](https://h5cube-spec.readthedocs.io/en/latest/cubeformat.html) and [here](https://manual.q-chem.com/5.3/sec_cubefiles.html).\n",
    "\n",
    "**Due to a bug, it is imperative that you copy your `.cube` files to your `/tmp/` directory and access them from there, as in the example, and NOT use them directly in the output directory:**"
   ]
  },
  {
   "cell_type": "code",
   "execution_count": 2,
   "id": "286a47e1-7516-4028-a5c1-72677772e1e2",
   "metadata": {},
   "outputs": [],
   "source": [
    "# !cp /cluster/home/ramador/daint_oxygen/triplet_mol/o2_triplet-ELECTRON_DENSITY-1_0.cube /tmp"
   ]
  },
  {
   "cell_type": "code",
   "execution_count": 3,
   "id": "d4e50c95-bb83-4fd4-9991-b01b342d0fc8",
   "metadata": {},
   "outputs": [
    {
     "data": {
      "application/vnd.jupyter.widget-view+json": {
       "model_id": "dad1422a7fa442e5af5b67b1a226a8b9",
       "version_major": 2,
       "version_minor": 0
      },
      "text/plain": [
       "NGLWidget()"
      ]
     },
     "metadata": {},
     "output_type": "display_data"
    }
   ],
   "source": [
    "file = './triplet_mol/o2-ELECTRON_DENSITY-1_0.cube'\n",
    "atoms = read(file)\n",
    "\n",
    "view = nv.NGLWidget()\n",
    "view.add_component(nv.ASEStructure(atoms))\n",
    "\n",
    "c_2 = view.add_component(file)\n",
    "c_2.clear()\n",
    "c_2.add_surface(color='blue', isolevelType=\"value\", isolevel=-0.005, opacity=0.05)\n",
    "\n",
    "c_3=view.add_component(file)\n",
    "c_3.clear()\n",
    "c_3.add_surface(color='green', isolevelType=\"value\", isolevel=0.015, opacity=0.15)\n",
    "\n",
    "view"
   ]
  },
  {
   "cell_type": "markdown",
   "id": "8ce45ed0-0ea6-40e4-a5cd-8f0e2d7d39b1",
   "metadata": {},
   "source": [
    "**!! Note: in this case as in the rest of the exercise, you might need to play around a bit with the values of the `isolevel` parameter. In general, both values should be quite small (ie absolute values close to zero), with one being negative and one being positive. !!**"
   ]
  },
  {
   "cell_type": "markdown",
   "id": "9cdeb0b7-2045-4f12-8647-658b088de1b0",
   "metadata": {},
   "source": [
    "### 2.3: Computing density differences\n",
    "\n",
    "This however is just the electronic density of the oxygen molecule: what is probably more interesting, are density *differences*. In order to compute these differences, we use a tool called [cubecruncher](https://github.com/cp2k/cp2k/tree/master/tools/cubecruncher), which allows us to perform various operations on cube files -- notably subtraction.\n",
    "\n",
    "Our goal is to obtain the density difference, and as such, we must subtract off the electron densities of each of the individual (!) oxygen atoms. To do this, we run two more simulations (ie, one for each of the individual atoms), whereby each simulation will generate the electron density (in turn, contained in its respective cube file) of that respective oxygen atom.\n",
    "\n",
    "1. We proceed by making a new directory within the current one: `$ mkdir diffs`\n",
    "2. Move into the `diffs` directory and copy the full electron density from the foregoing calculation into the `diffs` directory; give it a more suitable name if it helps:\n",
    "```bash\n",
    "$ cd diffs\n",
    "$ cp ../o2_trip-ELECTRON_DENSITY-1_0.cube ./full.cube\n",
    "```\n",
    "3. We now need to run the same simulation as for the molecule, except now for each of the individual two oxygen atoms. Let's make two new directories to contain these new simulations, and we copy the input file and run script from the parent calculation into these new directories:\n",
    "\n",
    "```bash\n",
    "$ mkdir o1\n",
    "$ mkdir o2\n",
    "$ cp ../{triplet.inp,submit.sh} o1\n",
    "$ cp ../{triplet.inp,submit.sh} o2\n",
    "```\n",
    "\n",
    "4. Move into the `o1` directory and remove the atom labeled `O2`:\n",
    "\n",
    "```\n",
    "    &COORD [angstrom]\n",
    "  O1         6.2069331992        6.2068856913        5.6293948156\n",
    "  O2         6.2068666902        6.2069143409        6.7844056115 #REMOVE\n",
    "    &END COORD\n",
    "```\n",
    "\n",
    "and its associated `&KIND` a few lines later:\n",
    "\n",
    "```\n",
    "    &KIND O2 #REMOVE ALL THIS\n",
    "       MAGNETIZATION 0\n",
    "       ELEMENT O\n",
    "       BASIS_SET aug-cc-pVTZ\n",
    "       POTENTIAL ALL\n",
    "   &END KIND\n",
    "```\n",
    "\n",
    "5. For bookkeeping's sake, change the name of the project:\n",
    "```\n",
    "PROJECT o1\n",
    "```\n",
    "and save and quit the file.\n",
    "\n",
    "6. For bookkeeping's sake, it might not be a bad idea to change the name of the input file itself. Don't forget to adjust anything in the submit script accordingly. Once everything is good, submit the job.\n",
    "\n",
    "7. Repeat steps 4-6 for o2.\n",
    "\n",
    "8. Copy (or move) the electron density files from each of the individual atoms into the `diff` directory (your relative paths might be a bit different depending on which directory exactly you're currently in):\n",
    "```bash\n",
    "$ cp o1/o1-ELECTRON_DENSITY-1_0.cube ./o1.cube\n",
    "$ cp o2/o2-ELECTRON_DENSITY-1_0.cube ./o2.cube\n",
    "```\n",
    "\n",
    "9. Now we have the three files --- `full.cube, o1.cube, o2.cube` --- which we'll need to plot the density differences. Let's first take `full.cube` minus `o1.cube` and save this temporary difference to a file `temp.diff`:\n",
    "```bash\n",
    "$ /cluster/scratch/danielep/cubecruncher.x -i full.cube -o temp.cube -subtract o1.cube\n",
    "```\n",
    "\n",
    "10. Now we subtract `o2.cube` from `temp.cube` and store the desired difference file to `diff.cube`:\n",
    "```bash\n",
    "$ /cluster/scratch/danielep/cubecruncher.x -i temp.cube -o diff.cube -subtract o2.cube\n",
    "```"
   ]
  },
  {
   "cell_type": "markdown",
   "id": "6021c068-2fb3-4bab-b3be-00e0e6b53c4b",
   "metadata": {},
   "source": [
    "### Assignment 1: Visualizing the electronic density difference\n",
    "\n",
    "Use the code of a few cells above (modify as necessary) to visualize the `diff.cube` file. Comment on how it differences from the first plot."
   ]
  },
  {
   "cell_type": "code",
   "execution_count": 8,
   "id": "eb7c700f-b514-4de9-9029-60663e6b751b",
   "metadata": {},
   "outputs": [
    {
     "data": {
      "application/vnd.jupyter.widget-view+json": {
       "model_id": "b5c56e8befeb4d19a7930b87c012ca7b",
       "version_major": 2,
       "version_minor": 0
      },
      "text/plain": [
       "NGLWidget()"
      ]
     },
     "metadata": {},
     "output_type": "display_data"
    }
   ],
   "source": [
    "# !cp /cluster/home/ramador/daint_oxygen/triplet_mol/diff/diff.cube /tmp"
   ]
  },
  {
   "cell_type": "code",
   "execution_count": 4,
   "id": "5671c054",
   "metadata": {},
   "outputs": [
    {
     "data": {
      "application/vnd.jupyter.widget-view+json": {
       "model_id": "7b2454113682404bb15c3e2aca90aee9",
       "version_major": 2,
       "version_minor": 0
      },
      "text/plain": [
       "NGLWidget()"
      ]
     },
     "metadata": {},
     "output_type": "display_data"
    }
   ],
   "source": [
    "file2 = './triplet_mol/diff.cube'\n",
    "atoms2 = read(file2)\n",
    "\n",
    "view2 = nv.NGLWidget()\n",
    "view2.add_component(nv.ASEStructure(atoms2))\n",
    "\n",
    "c_4 = view.add_component(file2)\n",
    "c_4.clear()\n",
    "c_4.add_surface(color='blue', isolevelType=\"value\", isolevel=-0.005, opacity=0.05)\n",
    "\n",
    "c_5=view.add_component(file2)\n",
    "c_5.clear()\n",
    "c_5.add_surface(color='green', isolevelType=\"value\", isolevel=0.015, opacity=0.15)\n",
    "\n",
    "view2"
   ]
  },
  {
   "cell_type": "markdown",
   "id": "09be46b6-e59d-453b-86bd-f6bc8f78a974",
   "metadata": {},
   "source": [
    "**!! NOTE: Your result might not be \"displaying as expected\" (like it was with me). To remedy this, restart your kernel (Kernel -> Shut Down All Kernels) and restart your server. !!**"
   ]
  },
  {
   "cell_type": "markdown",
   "id": "8360ee6f-f5eb-4793-a8c4-ab1bda28edef",
   "metadata": {},
   "source": [
    "### End Assignment 1"
   ]
  },
  {
   "cell_type": "markdown",
   "id": "89e20e69-815b-4bff-8a9a-91d860271058",
   "metadata": {},
   "source": [
    "### Assignment 2: Visualizing the molecular orbitals\n",
    "\n",
    "You will have certainly noticed the plethora of `WFN_000xyz_a-b_c.cube` files generated as a result of the calculation. These are the HOMO-$\\eta$ and LUMO+$\\xi$ orbitals, where the values of $\\eta$ and $\\xi$ were specified in the `.inp` file, respectively. \n",
    "\n",
    "1. The first subtask of this assignment will simply involve decoding the names of these files, and assigning them to the respective molecular orbital (HOMO-3, LUMO+2, etc.) to which they belong. Open one of these `WFN_000xyz_a-b_c.cube` files and observe how the first two lines (which are indeed always **comment** lines in `.cube` files) look like (for the `o2-WFN_00001_1-1_0.cube` file):\n",
    "\n",
    "```\n",
    "-Quickstep-\n",
    "  WAVEFUNCTION            1  spin            1  i.e. HOMO -           -8\n",
    "```\n",
    "\n",
    "Write a script, either in Python or in Bash, that takes the \"informational part\" of the file name,  extracts the data of the second comment line, and writes this information to a `.txt` file. The script should loop through all the `WFN` files in the current directory. This `.txt` file will be your reference for the remainder of this exercise. If you do it in Python, you might need the `sys` and/or `os` libraries; if you do it in Bash, you'll surely need `grep`. In any case, completion of this subtask will involve some string manipulation. The `.txt` file might look like something similar to this:\n",
    "\n",
    "```\n",
    "file wavefunction spin orbital\n",
    "00001_1-1_0 1 1 HOMO-8\n",
    "...\n",
    "```\n",
    "\n",
    "Of course, it doesn't *have* to look like *exactly* like this, but a format similar to the above might be helpful.\n",
    "\n",
    "2. Now that we've got a correspondence between these \"cryptic\" `WFN.cube` files and the orbitals they contain, we can plot them. Using the `.txt` file you generated in subtask 1 as a reference (so that you know exactly what files to plot), plot all of the occupied orbitals and the first 3 or 4 unoccupied orbitals. "
   ]
  },
  {
   "cell_type": "code",
   "execution_count": 43,
   "id": "b9e324f2",
   "metadata": {},
   "outputs": [
    {
     "name": "stdout",
     "output_type": "stream",
     "text": [
      "C:\\Users\\cambie_f\\MMM\\Molecular-and-Materials-Modelling-FS2023\\exercise6\\triplet_mol\\diffs\\o2\n"
     ]
    },
    {
     "name": "stderr",
     "output_type": "stream",
     "text": [
      "C:\\Users\\cambie_f\\AppData\\Local\\Temp\\ipykernel_8496\\205109311.py:21: VisibleDeprecationWarning: Creating an ndarray from ragged nested sequences (which is a list-or-tuple of lists-or-tuples-or ndarrays with different lengths or shapes) is deprecated. If you meant to do this, you must specify 'dtype=object' when creating the ndarray.\n",
      "  cube_data = np.array([list(map(float, row.split())) for row in data[6:]])\n"
     ]
    },
    {
     "ename": "TypeError",
     "evalue": "'float' object cannot be interpreted as an integer",
     "output_type": "error",
     "traceback": [
      "\u001b[1;31m---------------------------------------------------------------------------\u001b[0m",
      "\u001b[1;31mTypeError\u001b[0m                                 Traceback (most recent call last)",
      "File \u001b[1;32m~\\AppData\\Roaming\\Python\\Python39\\site-packages\\numpy\\core\\fromnumeric.py:57\u001b[0m, in \u001b[0;36m_wrapfunc\u001b[1;34m(obj, method, *args, **kwds)\u001b[0m\n\u001b[0;32m     56\u001b[0m \u001b[39mtry\u001b[39;00m:\n\u001b[1;32m---> 57\u001b[0m     \u001b[39mreturn\u001b[39;00m bound(\u001b[39m*\u001b[39margs, \u001b[39m*\u001b[39m\u001b[39m*\u001b[39mkwds)\n\u001b[0;32m     58\u001b[0m \u001b[39mexcept\u001b[39;00m \u001b[39mTypeError\u001b[39;00m:\n\u001b[0;32m     59\u001b[0m     \u001b[39m# A TypeError occurs if the object does have such a method in its\u001b[39;00m\n\u001b[0;32m     60\u001b[0m     \u001b[39m# class, but its signature is not identical to that of NumPy's. This\u001b[39;00m\n\u001b[1;32m   (...)\u001b[0m\n\u001b[0;32m     64\u001b[0m     \u001b[39m# Call _wrapit from within the except clause to ensure a potential\u001b[39;00m\n\u001b[0;32m     65\u001b[0m     \u001b[39m# exception has a traceback chain.\u001b[39;00m\n",
      "\u001b[1;31mTypeError\u001b[0m: 'float' object cannot be interpreted as an integer",
      "\nDuring handling of the above exception, another exception occurred:\n",
      "\u001b[1;31mTypeError\u001b[0m                                 Traceback (most recent call last)",
      "Cell \u001b[1;32mIn[43], line 24\u001b[0m\n\u001b[0;32m     21\u001b[0m cube_data \u001b[39m=\u001b[39m np\u001b[39m.\u001b[39marray([\u001b[39mlist\u001b[39m(\u001b[39mmap\u001b[39m(\u001b[39mfloat\u001b[39m, row\u001b[39m.\u001b[39msplit())) \u001b[39mfor\u001b[39;00m row \u001b[39min\u001b[39;00m data[\u001b[39m6\u001b[39m:]])\n\u001b[0;32m     23\u001b[0m \u001b[39m# Reshape the data to match the grid dimensions\u001b[39;00m\n\u001b[1;32m---> 24\u001b[0m cube_data \u001b[39m=\u001b[39m np\u001b[39m.\u001b[39;49mreshape(cube_data, (nx, ny, nz))\n\u001b[0;32m     26\u001b[0m \u001b[39m# Plot the isosurfaces for different energy levels\u001b[39;00m\n\u001b[0;32m     27\u001b[0m mlab\u001b[39m.\u001b[39mcontour3d(cube_data, contours\u001b[39m=\u001b[39m[\u001b[39m0.01\u001b[39m, \u001b[39m0.02\u001b[39m, \u001b[39m0.03\u001b[39m])\n",
      "File \u001b[1;32m<__array_function__ internals>:180\u001b[0m, in \u001b[0;36mreshape\u001b[1;34m(*args, **kwargs)\u001b[0m\n",
      "File \u001b[1;32m~\\AppData\\Roaming\\Python\\Python39\\site-packages\\numpy\\core\\fromnumeric.py:298\u001b[0m, in \u001b[0;36mreshape\u001b[1;34m(a, newshape, order)\u001b[0m\n\u001b[0;32m    198\u001b[0m \u001b[39m@array_function_dispatch\u001b[39m(_reshape_dispatcher)\n\u001b[0;32m    199\u001b[0m \u001b[39mdef\u001b[39;00m \u001b[39mreshape\u001b[39m(a, newshape, order\u001b[39m=\u001b[39m\u001b[39m'\u001b[39m\u001b[39mC\u001b[39m\u001b[39m'\u001b[39m):\n\u001b[0;32m    200\u001b[0m \u001b[39m    \u001b[39m\u001b[39m\"\"\"\u001b[39;00m\n\u001b[0;32m    201\u001b[0m \u001b[39m    Gives a new shape to an array without changing its data.\u001b[39;00m\n\u001b[0;32m    202\u001b[0m \n\u001b[1;32m   (...)\u001b[0m\n\u001b[0;32m    296\u001b[0m \u001b[39m           [5, 6]])\u001b[39;00m\n\u001b[0;32m    297\u001b[0m \u001b[39m    \"\"\"\u001b[39;00m\n\u001b[1;32m--> 298\u001b[0m     \u001b[39mreturn\u001b[39;00m _wrapfunc(a, \u001b[39m'\u001b[39;49m\u001b[39mreshape\u001b[39;49m\u001b[39m'\u001b[39;49m, newshape, order\u001b[39m=\u001b[39;49morder)\n",
      "File \u001b[1;32m~\\AppData\\Roaming\\Python\\Python39\\site-packages\\numpy\\core\\fromnumeric.py:66\u001b[0m, in \u001b[0;36m_wrapfunc\u001b[1;34m(obj, method, *args, **kwds)\u001b[0m\n\u001b[0;32m     57\u001b[0m     \u001b[39mreturn\u001b[39;00m bound(\u001b[39m*\u001b[39margs, \u001b[39m*\u001b[39m\u001b[39m*\u001b[39mkwds)\n\u001b[0;32m     58\u001b[0m \u001b[39mexcept\u001b[39;00m \u001b[39mTypeError\u001b[39;00m:\n\u001b[0;32m     59\u001b[0m     \u001b[39m# A TypeError occurs if the object does have such a method in its\u001b[39;00m\n\u001b[0;32m     60\u001b[0m     \u001b[39m# class, but its signature is not identical to that of NumPy's. This\u001b[39;00m\n\u001b[1;32m   (...)\u001b[0m\n\u001b[0;32m     64\u001b[0m     \u001b[39m# Call _wrapit from within the except clause to ensure a potential\u001b[39;00m\n\u001b[0;32m     65\u001b[0m     \u001b[39m# exception has a traceback chain.\u001b[39;00m\n\u001b[1;32m---> 66\u001b[0m     \u001b[39mreturn\u001b[39;00m _wrapit(obj, method, \u001b[39m*\u001b[39margs, \u001b[39m*\u001b[39m\u001b[39m*\u001b[39mkwds)\n",
      "File \u001b[1;32m~\\AppData\\Roaming\\Python\\Python39\\site-packages\\numpy\\core\\fromnumeric.py:43\u001b[0m, in \u001b[0;36m_wrapit\u001b[1;34m(obj, method, *args, **kwds)\u001b[0m\n\u001b[0;32m     41\u001b[0m \u001b[39mexcept\u001b[39;00m \u001b[39mAttributeError\u001b[39;00m:\n\u001b[0;32m     42\u001b[0m     wrap \u001b[39m=\u001b[39m \u001b[39mNone\u001b[39;00m\n\u001b[1;32m---> 43\u001b[0m result \u001b[39m=\u001b[39m \u001b[39mgetattr\u001b[39m(asarray(obj), method)(\u001b[39m*\u001b[39margs, \u001b[39m*\u001b[39m\u001b[39m*\u001b[39mkwds)\n\u001b[0;32m     44\u001b[0m \u001b[39mif\u001b[39;00m wrap:\n\u001b[0;32m     45\u001b[0m     \u001b[39mif\u001b[39;00m \u001b[39mnot\u001b[39;00m \u001b[39misinstance\u001b[39m(result, mu\u001b[39m.\u001b[39mndarray):\n",
      "\u001b[1;31mTypeError\u001b[0m: 'float' object cannot be interpreted as an integer"
     ]
    }
   ],
   "source": [
    "import numpy as np\n",
    "from mayavi import mlab\n",
    "import os\n",
    "\n",
    "folder_path = 'C:/Users/cambie_f/MMM/Molecular-and-Materials-Modelling-FS2023/exercise6/triplet_mol/diffs/o2'\n",
    "os.chdir(folder_path)\n",
    "print(os.getcwd())\n",
    "\n",
    "# Loop through the files and process the first .cube file with \"WFN\" in its name\n",
    "for filename in os.listdir(folder_path):\n",
    "    if \"WFN\" in filename and filename.endswith(\".cube\"):\n",
    "        # Read the data\n",
    "        with open(filename, 'r') as f:\n",
    "            data = f.readlines()\n",
    "\n",
    "        # Extract the grid dimensions and origin\n",
    "        nx, ny, nz = map(float, data[3].split()[0:3])\n",
    "        ox, oy, oz = map(float, data[2].split()[1:4])\n",
    "\n",
    "        # Extract the volumetric data\n",
    "        cube_data = np.array([list(map(float, row.split())) for row in data[6:]])\n",
    "\n",
    "        # Reshape the data to match the grid dimensions\n",
    "        cube_data = np.reshape(cube_data, (nx, ny, nz))\n",
    "\n",
    "        # Plot the isosurfaces for different energy levels\n",
    "        mlab.contour3d(cube_data, contours=[0.01, 0.02, 0.03])\n",
    "        mlab.axes()\n",
    "        mlab.show()\n",
    "        \n",
    "        # Break the loop after processing the first file\n",
    "        break\n"
   ]
  },
  {
   "cell_type": "markdown",
   "id": "12c56450-7c04-4425-a383-5c327b0adf73",
   "metadata": {},
   "source": [
    "### Assignment 3: the triplet atom\n",
    "\n",
    "1. Move into the directory `triplet_atom` and run the same calculation (singular!) now for the single oxygen atom. Visualize the eletron density `ELECTRON_DENSITY-1_0.cube`. Comment on the important differences between the plot of the electron density.\n",
    "\n",
    "2. Plot all of the orbitals and comment on the difference. Note that the text \"HOMO\", \"LUMO\" in the context of the single oxygen atom is, strictly taken, not so correct, since these are purely atomic orbitals. What do you notice about the differences between the atomic orbitals and the molecular orbitals at the same level?"
   ]
  },
  {
   "cell_type": "code",
   "execution_count": 2,
   "id": "a63c5991-027d-4065-ba19-3b97d11b837f",
   "metadata": {},
   "outputs": [],
   "source": [
    "### your code here"
   ]
  },
  {
   "cell_type": "code",
   "execution_count": 5,
   "id": "609f33d3-42f3-42a8-ac73-8d980e0c65ad",
   "metadata": {},
   "outputs": [
    {
     "data": {
      "application/vnd.jupyter.widget-view+json": {
       "model_id": "3686345fea8c4284b1c91b8517b9eec7",
       "version_major": 2,
       "version_minor": 0
      },
      "text/plain": [
       "NGLWidget()"
      ]
     },
     "metadata": {},
     "output_type": "display_data"
    }
   ],
   "source": [
    "file2 = './triplet_atom/o-ELECTRON_DENSITY-1_0.cube'\n",
    "atoms2 = read(file2)\n",
    "\n",
    "view2 = nv.NGLWidget()\n",
    "view2.add_component(nv.ASEStructure(atoms2))\n",
    "\n",
    "c_4 = view2.add_component(file2)\n",
    "c_4.clear()\n",
    "c_4.add_surface(color='blue', isolevelType=\"value\", isolevel=-0.005, opacity=0.05)\n",
    "\n",
    "c_5=view2.add_component(file2)\n",
    "c_5.clear()\n",
    "c_5.add_surface(color='green', isolevelType=\"value\", isolevel=0.005, opacity=0.15)\n",
    "\n",
    "\n",
    "view2"
   ]
  },
  {
   "cell_type": "markdown",
   "id": "66e9fb6b-002e-490c-81f3-eb2e5b7999b6",
   "metadata": {},
   "source": [
    "### End Assignment 3"
   ]
  },
  {
   "attachments": {},
   "cell_type": "markdown",
   "id": "40a90b17",
   "metadata": {},
   "source": [
    "## 3. ~~Reading~~ Interpreting the output files.\n",
    "\n",
    "Before concluding today's exercise, there are two pieces of information that we should be made aware of, which can be found towards the end of the respective `.out` files. Open the `triplet.out` file for the molecule and scroll towards the bottom until you find\n",
    "\n",
    "```\n",
    "  Eigenvalues of the occupied subspace spin            1\n",
    " ---------------------------------------------\n",
    "     -18.91106343     -18.91098286      -1.20199960      -0.75825075\n",
    "      -0.49784172      -0.49451467      -0.49451467      -0.25446183\n",
    "      -0.25446183\n",
    " Fermi Energy [eV] :   -6.924259\n",
    "  \n",
    "  Eigenvalues of the occupied subspace spin            2\n",
    " ---------------------------------------------\n",
    "     -18.88507991     -18.88499208      -1.15811454      -0.69227713\n",
    "      -0.46456304      -0.42601125      -0.42601125\n",
    " Fermi Energy [eV] :  -11.592356\n",
    "```\n",
    "\n",
    "Even though we didn't plot and visualize the spin densities explicitly, we should note that we have indeed calculated them (see the output files). The table of `Eigenvalues of the occupied subspace spin` shows exactly the spin-splitting phenomenon that we expect from the molecular orbital schema of oxygen; the `1` resp. `2` indicates the spin up and spin down. "
   ]
  },
  {
   "cell_type": "markdown",
   "id": "aa151f6f-d30e-4cf7-83bc-b71adde6a846",
   "metadata": {},
   "source": [
    "### Assignment 4: extraction of the energies and construction of the MO schema\n",
    "\n",
    "Use the values of the energy from the output files of the calculations from both the triplet molecule and the triplet atom to generate an ordering of the energies. Similar to [this figure](https://chem.libretexts.org/Bookshelves/Physical_and_Theoretical_Chemistry_Textbook_Maps/Physical_Chemistry_(LibreTexts)/09%3A_Chemical_Bonding_in_Diatomic_Molecules/9.10%3A_Molecular_Orbital_Theory_Predicts_that_Molecular_Oxygen_is_Paramagnetic), energy should be on the vertical axis. Your plot can be as sophisticated or as simple as you like, but should contain all of the following information:\n",
    "* show the degeneracy in energy between distinct states (ie, that the two 2s states have the same energy and the two 2p states have the same energy, although the latter corresponds to a different (microstate!) spin configuration);\n",
    "* use the lecture slides (particularly the slide 'molecular orbitals for simple diatomic molecules') to show and label the molecular orbital splitting between the $s$ resp. $p$ orbitals;\n",
    "* show the respective spin configuration of each shell (up resp. down);\n",
    "* contain all necessary labels (see the snippet above)\n",
    "* use what was learned in class to explain why molecular oxygen is paramagnetic\n",
    "\n"
   ]
  },
  {
   "cell_type": "code",
   "execution_count": 6,
   "id": "790267ca-57f1-44c1-9705-e413fc467bf5",
   "metadata": {},
   "outputs": [],
   "source": [
    "### your code here"
   ]
  },
  {
   "cell_type": "markdown",
   "id": "9163a070-dc3d-4191-bcd4-961a516c1ff9",
   "metadata": {},
   "source": [
    "### End Assignment 4"
   ]
  },
  {
   "cell_type": "code",
   "execution_count": null,
   "id": "04623fda-a5d8-49c2-8790-006c06a0174c",
   "metadata": {},
   "outputs": [],
   "source": []
  }
 ],
 "metadata": {
  "kernelspec": {
   "display_name": "Python 3 (ipykernel)",
   "language": "python",
   "name": "python3"
  },
  "language_info": {
   "codemirror_mode": {
    "name": "ipython",
    "version": 3
   },
   "file_extension": ".py",
   "mimetype": "text/x-python",
   "name": "python",
   "nbconvert_exporter": "python",
   "pygments_lexer": "ipython3",
   "version": "3.9.5"
  }
 },
 "nbformat": 4,
 "nbformat_minor": 5
}
