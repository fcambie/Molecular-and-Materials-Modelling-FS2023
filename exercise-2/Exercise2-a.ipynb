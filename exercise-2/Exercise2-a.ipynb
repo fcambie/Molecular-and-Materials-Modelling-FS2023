{
 "cells": [
  {
   "cell_type": "code",
   "execution_count": null,
   "metadata": {},
   "outputs": [],
   "source": [
    "import matplotlib.pyplot as plt\n",
    "import matplotlib.animation\n",
    "from IPython.display import HTML\n",
    "import numpy as np\n",
    "from scipy.constants import physical_constants\n",
    "import copy"
   ]
  },
  {
   "cell_type": "code",
   "execution_count": null,
   "metadata": {},
   "outputs": [],
   "source": [
    "def get_ani(traj,dx,dy,frames=None):#(xdata,ydata,xlim,ylim,frames=None):\n",
    "    \n",
    "    xdata,ydata,xlim,ylim=traj_coord(traj,dx,dy)\n",
    "    if frames is None:\n",
    "        frames=len(ydata)\n",
    "        \n",
    "    fig, ax = plt.subplots()\n",
    "    ax.set_xlim((xlim))\n",
    "    ax.set_ylim((ylim))\n",
    "    l, = ax.plot([],[],'o')\n",
    "    \n",
    "    def animate(i):\n",
    "        l.set_data(xdata[i],ydata[i])\n",
    "    \n",
    "    ani = matplotlib.animation.FuncAnimation(fig, animate, frames=frames)\n",
    "    plt.close()\n",
    "    \n",
    "    return ani"
   ]
  },
  {
   "cell_type": "code",
   "execution_count": null,
   "metadata": {},
   "outputs": [],
   "source": [
    "def traj_coord(traj,dx,dy):\n",
    "    X=[]\n",
    "    Y=[]\n",
    "    Xmax=-np.inf\n",
    "    Ymax=-np.inf\n",
    "    for i in range(len(traj)):\n",
    "        x,y=coordinates(traj[i],dx,dy)\n",
    "        xmax=max(x) \n",
    "        Xmax=xmax if xmax>Xmax else Xmax\n",
    "        ymax=max(y) \n",
    "        Ymax=ymax if ymax>Ymax else Ymax\n",
    "        X.append(x.copy())\n",
    "        Y.append(y.copy())\n",
    "    xlim=(-10,Xmax+10)\n",
    "    ylim=(-20,Ymax+20)\n",
    "    return X,Y,xlim,ylim"
   ]
  },
  {
   "cell_type": "code",
   "execution_count": null,
   "metadata": {},
   "outputs": [],
   "source": [
    "def traj_stat(traj):\n",
    "    nouter=len(traj)\n",
    "    nalone=np.zeros(nouter)\n",
    "    ndimer=np.zeros(nouter)\n",
    "    ncluster=np.zeros(nouter)\n",
    "    #scluster=[list() for i in range(nouter)] \n",
    "\n",
    "    for i in range(nouter):\n",
    "        reduced=copy.deepcopy(traj[i])\n",
    "        while len(reduced)>0:\n",
    "            cluster=allconnected(reduced,0,nx,ny) \n",
    "            members=len(cluster)\n",
    "            if   members==1:\n",
    "                nalone[i]+=1\n",
    "            elif members ==2:\n",
    "                ndimer[i]+=1\n",
    "            else:\n",
    "                ncluster[i]+=1\n",
    "                #scluster[i].append(members)\n",
    "\n",
    "            #### I will not check molecules already found in a cluster\n",
    "            for c in cluster:\n",
    "                reduced.remove(c)\n",
    "    return nalone, ndimer, ncluster"
   ]
  },
  {
   "cell_type": "markdown",
   "metadata": {},
   "source": [
    "## Import monte_carlo.py functions\n",
    "\n",
    "> coordinates <br>\n",
    "neighbors <br>\n",
    "allconnected "
   ]
  },
  {
   "cell_type": "code",
   "execution_count": null,
   "metadata": {},
   "outputs": [],
   "source": [
    "from monte_carlo import *"
   ]
  },
  {
   "cell_type": "markdown",
   "metadata": {},
   "source": [
    "## Tasks"
   ]
  },
  {
   "cell_type": "markdown",
   "metadata": {},
   "source": [
    "1. Estimate the dimer binding energy as $de=k_BT \\ ln(n_0/n_{exp})$ where $k_B$ is the Boltzmann's constant, T is the simulation (and experiment) temperature, $n_0$ is the concentration of dimers in the case of zero interaction and $n_{exp}$ is the concentration of dimers found in the experiment.\n",
    "\n",
    "\n",
    "2. Repeat the simulation using as $dE$ your estimate. What do you get?\n",
    "\n",
    "\n",
    "3. Repeat the simulation with coverage 0.1 and $de=-0.02$ then $de=-0.1$ Describe what you obtain. Now try $coverage=0.1, T=400, dE=-0.1$ Comment the result"
   ]
  },
  {
   "cell_type": "markdown",
   "metadata": {},
   "source": [
    "## Monte Carlo parameters\n",
    "\n"
   ]
  },
  {
   "cell_type": "code",
   "execution_count": null,
   "metadata": {},
   "outputs": [],
   "source": [
    "de=0. #(for task 1, no interaction)\n",
    "T=200\n",
    "kb=physical_constants['Boltzmann constant in eV/K'][0]\n",
    "beta =1.0/(kb*T)\n",
    "nouter=100\n",
    "ninner=10"
   ]
  },
  {
   "cell_type": "markdown",
   "metadata": {},
   "source": [
    "## Honeycomb lattice define"
   ]
  },
  {
   "cell_type": "code",
   "execution_count": null,
   "metadata": {},
   "outputs": [],
   "source": [
    "sr3=np.sqrt(3.0)\n",
    "nx=50\n",
    "ny=nx/2\n",
    "dx=10.02\n",
    "dy=dx*sr3"
   ]
  },
  {
   "cell_type": "markdown",
   "metadata": {},
   "source": [
    "<img src=\"hex_convention.png\" width=500 height=500>\n",
    "\n",
    "The figure illustrates the hexagonal lattice. The blue dot (1) is positioned at site $si=0$ of cell [$xi$,$yi$]=[$4,2$] and the blue dot (5) at site $si=1$ of the same cell."
   ]
  },
  {
   "cell_type": "markdown",
   "metadata": {},
   "source": [
    "## #Molecules"
   ]
  },
  {
   "cell_type": "code",
   "execution_count": null,
   "metadata": {},
   "outputs": [],
   "source": [
    "coverage= 0.02#(look in paper lowest coverage)\n",
    "nmolecules=int(nx*nx*coverage)"
   ]
  },
  {
   "cell_type": "markdown",
   "metadata": {},
   "source": [
    "## Run ...\n",
    "This Monte Carlo implemets an **outer** and an **inner** cicle, i.e. for each outer step, an inner loop is runned. <br> Statistics for the system of molecules are sampled for each outer step, by performing statistical averages over the configurations obtained from the inner circle."
   ]
  },
  {
   "cell_type": "code",
   "execution_count": null,
   "metadata": {},
   "outputs": [],
   "source": [
    "molecules=[]\n",
    "i=0\n",
    "\n",
    "#### Create initial geometry\n",
    "while i < nmolecules :\n",
    "    xi=np.random.randint(0,nx)\n",
    "    yi=np.random.randint(0,ny)\n",
    "    si=np.random.randint(0,2)\n",
    "    newmolecule=[xi,yi,si]\n",
    "    if  newmolecule  not in molecules:\n",
    "        molecules.append(newmolecule)\n",
    "        i=i+1\n",
    "#### END Create initial geometry\n",
    "\n",
    "#### Initial energy\n",
    "totene=0.0\n",
    "for m in range(nmolecules):\n",
    "    n,l =neighbors(molecules,m,nx,ny)\n",
    "    totene+=n*de\n",
    "totene/=2\n",
    "\n",
    "nacc=0  # acceptance rate\n",
    "nrej=0  # rejection rate\n",
    "avgene=np.zeros(nouter) # average energy\n",
    "traj=[] # trajectory of system of molecules per outer step\n",
    "\n",
    "#### outer loop\n",
    "for i in range(nouter):\n",
    "    \n",
    "    maxinner=ninner*20\n",
    "    nsteps=0\n",
    "    j=0\n",
    "    while (j<ninner):\n",
    "        '''\n",
    "            TODO\n",
    "            \n",
    "            1. Select a molecule from the initial geometry, molecules=[...].\n",
    "                \n",
    "            2. Pick at random a new position.\n",
    "            \n",
    "            3. Check that the new position is not already occupied\n",
    "            \n",
    "            4. Compute the energy of the new configuration: \n",
    "            hint: e=(de*n), where n is the number of neighbors returned by \n",
    "            the function n,l=neighbor(molecules,selected,nx,ny).  \n",
    "            \n",
    "            5. Decide whether to accept or not the move.\n",
    "            hint: deltae=enew-eold p<exp(-beta*deltae)\n",
    "            \n",
    "            6. Update the total energy, totene, and geometry, molecules, \n",
    "            if necessary.\n",
    "            \n",
    "        '''\n",
    "        \n",
    "        nsteps+=1\n",
    "        if nsteps==maxinner: \n",
    "            print('coverage too big')\n",
    "            exit()\n",
    "\n",
    "    #### STATISTICS and LOG\n",
    "    avgene[i]/=ninner\n",
    "    traj.append(copy.deepcopy(molecules))"
   ]
  },
  {
   "cell_type": "markdown",
   "metadata": {},
   "source": [
    "## Count #alone,#dimer,#cluster\n",
    "\n",
    "> #alone = unpaired molecule && not in any cluster <br> #dimer= number of dimers <br> #cluster= number of clusters"
   ]
  },
  {
   "cell_type": "code",
   "execution_count": null,
   "metadata": {},
   "outputs": [],
   "source": [
    "nalone, ndimer, ncluster = traj_stat(traj)"
   ]
  },
  {
   "cell_type": "markdown",
   "metadata": {},
   "source": [
    "## Check convergence\n",
    "\n",
    "1. Visually check that the energy **and** the #dimer converge. \n",
    "2. If **not** converged goto **Monte Carlo parameters**, incerase *nouter* and **Run ..** again the simulation"
   ]
  },
  {
   "cell_type": "code",
   "execution_count": null,
   "metadata": {},
   "outputs": [],
   "source": [
    "plt.figure(figsize=(8,5))\n",
    "plt.plot(avgene,label='Energy')\n",
    "plt.plot(nalone,label='#alone')\n",
    "plt.plot(ndimer,label='#dimer')\n",
    "plt.plot(ncluster,label='#cluster')\n",
    "plt.legend()"
   ]
  },
  {
   "cell_type": "markdown",
   "metadata": {},
   "source": [
    "## Create animation\n",
    "\n",
    "Visualize the trajectory."
   ]
  },
  {
   "cell_type": "code",
   "execution_count": null,
   "metadata": {},
   "outputs": [],
   "source": [
    "ani = get_ani(traj,dx,dy)"
   ]
  },
  {
   "cell_type": "code",
   "execution_count": null,
   "metadata": {},
   "outputs": [],
   "source": [
    "HTML(ani.to_jshtml())"
   ]
  },
  {
   "cell_type": "code",
   "execution_count": null,
   "metadata": {},
   "outputs": [],
   "source": []
  }
 ],
 "metadata": {
  "kernelspec": {
   "display_name": "Python 3 (ipykernel)",
   "language": "python",
   "name": "python3"
  },
  "language_info": {
   "codemirror_mode": {
    "name": "ipython",
    "version": 3
   },
   "file_extension": ".py",
   "mimetype": "text/x-python",
   "name": "python",
   "nbconvert_exporter": "python",
   "pygments_lexer": "ipython3",
   "version": "3.8.10"
  }
 },
 "nbformat": 4,
 "nbformat_minor": 4
}
