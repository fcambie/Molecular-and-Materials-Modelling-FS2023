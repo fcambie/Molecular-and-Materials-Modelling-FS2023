{
 "cells": [
  {
   "cell_type": "code",
   "execution_count": 1,
   "metadata": {},
   "outputs": [],
   "source": [
    "#pip install spglib --user"
   ]
  },
  {
   "cell_type": "code",
   "execution_count": 2,
   "metadata": {},
   "outputs": [
    {
     "data": {
      "application/vnd.jupyter.widget-view+json": {
       "model_id": "2848141dad424c5099116afd076862dd",
       "version_major": 2,
       "version_minor": 0
      },
      "text/plain": []
     },
     "metadata": {},
     "output_type": "display_data"
    }
   ],
   "source": [
    "import numpy as np\n",
    "from numpy.linalg import norm\n",
    "\n",
    "from ase.io import read,write\n",
    "from ase.visualize import view,ngl\n",
    "from ase.spacegroup import crystal\n",
    "from ase.spacegroup import Spacegroup\n",
    "from ase.data import atomic_numbers, atomic_names\n",
    "from ase import Atoms\n",
    "\n",
    "import spglib\n",
    "\n",
    "import nglview"
   ]
  },
  {
   "cell_type": "code",
   "execution_count": 3,
   "metadata": {},
   "outputs": [],
   "source": [
    "def ase_to_spgcell(ase_atoms=None, cell=None, inverse=False):\n",
    "    if not inverse:\n",
    "        assert ase_atoms is not None\n",
    "        return (ase_atoms.get_cell(),\n",
    "                ase_atoms.get_scaled_positions(),\n",
    "                ase_atoms.get_atomic_numbers())\n",
    "    else:\n",
    "        assert cell is not None\n",
    "        return Atoms(cell=cell[0],\n",
    "                     scaled_positions=cell[1],\n",
    "                     numbers=cell[2])"
   ]
  },
  {
   "cell_type": "markdown",
   "metadata": {},
   "source": [
    "## Lattice parameters, angles and spacegroup"
   ]
  },
  {
   "cell_type": "code",
   "execution_count": 4,
   "metadata": {},
   "outputs": [
    {
     "name": "stdout",
     "output_type": "stream",
     "text": [
      "92    P 41 21 2\n",
      "  setting 1\n",
      "  centrosymmetric 0\n",
      "  primitive vectors\n",
      "     1.0000000000  0.0000000000  0.0000000000\n",
      "     0.0000000000  1.0000000000  0.0000000000\n",
      "     0.0000000000  0.0000000000  1.0000000000\n",
      "  reciprocal vectors\n",
      "      1   0   0\n",
      "      0   1   0\n",
      "      0   0   1\n",
      "  1 subtranslations\n",
      "     0.0000000000  0.0000000000  0.0000000000\n",
      "  8 symmetry operations (rot+trans)\n",
      "    1  0  0     0  1  0     0  0  1    0.0000000000  0.0000000000  0.0000000000\n",
      "   -1  0  0     0 -1  0     0  0  1    0.0000000000  0.0000000000  0.5000000000\n",
      "    0 -1  0     1  0  0     0  0  1    0.5000000000  0.5000000000  0.2500000000\n",
      "    0  1  0    -1  0  0     0  0  1    0.5000000000  0.5000000000  0.7500000000\n",
      "   -1  0  0     0  1  0     0  0 -1    0.5000000000  0.5000000000  0.2500000000\n",
      "    1  0  0     0 -1  0     0  0 -1    0.5000000000  0.5000000000  0.7500000000\n",
      "    0  1  0     1  0  0     0  0 -1    0.0000000000  0.0000000000  0.0000000000\n",
      "    0 -1  0    -1  0  0     0  0 -1    0.0000000000  0.0000000000  0.5000000000\n",
      "\n",
      "\n"
     ]
    }
   ],
   "source": [
    "a=4.9780\n",
    "b=4.9780\n",
    "c=6.9480\n",
    "alpha=90\n",
    "beta=90\n",
    "gamma=90\n",
    "thespacegroup=92\n",
    "print(Spacegroup(thespacegroup))"
   ]
  },
  {
   "cell_type": "markdown",
   "metadata": {},
   "source": [
    "## there are two inequivalent atoms with crystal coordinates:\n",
    "## O:     0.23976   0.10324   0.17844\n",
    "## Si:    0.30004   0.30004   0.00000"
   ]
  },
  {
   "cell_type": "code",
   "execution_count": 5,
   "metadata": {},
   "outputs": [],
   "source": [
    "sio2=crystal(symbols=['O','Si'],\n",
    "               basis=[(0.23976 ,  0.10324  , 0.17844),\n",
    "                      (0.30004 ,  0.30004  , 0.00000)],\n",
    "               spacegroup=thespacegroup, \n",
    "               cellpar=[a, b, c, alpha, beta, gamma])"
   ]
  },
  {
   "cell_type": "code",
   "execution_count": 6,
   "metadata": {},
   "outputs": [
    {
     "data": {
      "application/vnd.jupyter.widget-view+json": {
       "model_id": "94533888f429404f9db87fac7d14da5a",
       "version_major": 2,
       "version_minor": 0
      },
      "text/plain": [
       "HBox(children=(NGLWidget(), VBox(children=(Dropdown(description='Show', options=('All', 'O', 'Si'), value='All…"
      ]
     },
     "metadata": {},
     "output_type": "display_data"
    }
   ],
   "source": [
    "view(sio2, viewer='ngl')"
   ]
  },
  {
   "cell_type": "code",
   "execution_count": 7,
   "metadata": {},
   "outputs": [],
   "source": [
    "#v=_"
   ]
  },
  {
   "cell_type": "code",
   "execution_count": 8,
   "metadata": {},
   "outputs": [],
   "source": [
    "# delete all old components\n",
    "#while hasattr(v.view, \"component_0\"):\n",
    "#    v.view.component_0.clear_representations()\n",
    "#    cid = v.view.component_0.id\n",
    "#    v.view.remove_component(cid)"
   ]
  },
  {
   "cell_type": "code",
   "execution_count": 9,
   "metadata": {},
   "outputs": [],
   "source": [
    "#v.view.add_component(nglview.ASEStructure(sio2), \n",
    "#                     default_representation=False)\n",
    "#v.view.add_ball_and_stick(aspectRatio=2.0, opacity=1.0,component=0)"
   ]
  },
  {
   "cell_type": "code",
   "execution_count": 10,
   "metadata": {},
   "outputs": [],
   "source": [
    "#v.view.add_unitcell()\n",
    "#v.view.center()"
   ]
  },
  {
   "cell_type": "code",
   "execution_count": 11,
   "metadata": {},
   "outputs": [],
   "source": [
    "cell = ase_to_spgcell(ase_atoms=sio2)\n",
    "lattice, scaled_positions, numbers = spglib.find_primitive(cell, symprec=1e-5)\n",
    "reduced = ase_to_spgcell(cell=(lattice, scaled_positions, numbers),inverse=True)"
   ]
  },
  {
   "cell_type": "code",
   "execution_count": 12,
   "metadata": {},
   "outputs": [],
   "source": [
    "sym_info = spglib.get_symmetry_dataset(ase_to_spgcell(ase_atoms=sio2), \n",
    "                                       symprec=1e-5, angle_tolerance=-1.0, hall_number=0)"
   ]
  },
  {
   "cell_type": "code",
   "execution_count": 13,
   "metadata": {},
   "outputs": [
    {
     "data": {
      "text/plain": [
       "{'number': 92,\n",
       " 'hall_number': 369,\n",
       " 'international': 'P4_12_12',\n",
       " 'hall': 'P 4abw 2nw',\n",
       " 'choice': '',\n",
       " 'transformation_matrix': array([[1., 0., 0.],\n",
       "        [0., 1., 0.],\n",
       "        [0., 0., 1.]]),\n",
       " 'origin_shift': array([5.55111512e-17, 5.55111512e-17, 0.00000000e+00]),\n",
       " 'rotations': array([[[ 1,  0,  0],\n",
       "         [ 0,  1,  0],\n",
       "         [ 0,  0,  1]],\n",
       " \n",
       "        [[ 0, -1,  0],\n",
       "         [ 1,  0,  0],\n",
       "         [ 0,  0,  1]],\n",
       " \n",
       "        [[-1,  0,  0],\n",
       "         [ 0, -1,  0],\n",
       "         [ 0,  0,  1]],\n",
       " \n",
       "        [[ 0,  1,  0],\n",
       "         [-1,  0,  0],\n",
       "         [ 0,  0,  1]],\n",
       " \n",
       "        [[ 1,  0,  0],\n",
       "         [ 0, -1,  0],\n",
       "         [ 0,  0, -1]],\n",
       " \n",
       "        [[ 0, -1,  0],\n",
       "         [-1,  0,  0],\n",
       "         [ 0,  0, -1]],\n",
       " \n",
       "        [[-1,  0,  0],\n",
       "         [ 0,  1,  0],\n",
       "         [ 0,  0, -1]],\n",
       " \n",
       "        [[ 0,  1,  0],\n",
       "         [ 1,  0,  0],\n",
       "         [ 0,  0, -1]]], dtype=int32),\n",
       " 'translations': array([[ 0.00000000e+00,  0.00000000e+00,  0.00000000e+00],\n",
       "        [ 5.00000000e-01,  5.00000000e-01,  2.50000000e-01],\n",
       "        [-1.11022302e-16, -1.11022302e-16,  5.00000000e-01],\n",
       "        [ 5.00000000e-01,  5.00000000e-01,  7.50000000e-01],\n",
       "        [ 5.00000000e-01,  5.00000000e-01,  7.50000000e-01],\n",
       "        [-1.11022302e-16, -1.11022302e-16,  5.00000000e-01],\n",
       "        [ 5.00000000e-01,  5.00000000e-01,  2.50000000e-01],\n",
       "        [ 0.00000000e+00,  0.00000000e+00,  0.00000000e+00]]),\n",
       " 'wyckoffs': ['b', 'b', 'b', 'b', 'b', 'b', 'b', 'b', 'a', 'a', 'a', 'a'],\n",
       " 'site_symmetry_symbols': ['1',\n",
       "  '1',\n",
       "  '1',\n",
       "  '1',\n",
       "  '1',\n",
       "  '1',\n",
       "  '1',\n",
       "  '1',\n",
       "  '..2',\n",
       "  '..2',\n",
       "  '..2',\n",
       "  '..2'],\n",
       " 'crystallographic_orbits': array([0, 0, 0, 0, 0, 0, 0, 0, 8, 8, 8, 8], dtype=int32),\n",
       " 'equivalent_atoms': array([0, 0, 0, 0, 0, 0, 0, 0, 8, 8, 8, 8], dtype=int32),\n",
       " 'primitive_lattice': array([[4.978, 0.   , 0.   ],\n",
       "        [0.   , 4.978, 0.   ],\n",
       "        [0.   , 0.   , 6.948]]),\n",
       " 'mapping_to_primitive': array([ 0,  1,  2,  3,  4,  5,  6,  7,  8,  9, 10, 11], dtype=int32),\n",
       " 'std_lattice': array([[4.978, 0.   , 0.   ],\n",
       "        [0.   , 4.978, 0.   ],\n",
       "        [0.   , 0.   , 6.948]]),\n",
       " 'std_types': array([ 8,  8,  8,  8,  8,  8,  8,  8, 14, 14, 14, 14], dtype=int32),\n",
       " 'std_positions': array([[0.23976, 0.10324, 0.17844],\n",
       "        [0.76024, 0.89676, 0.67844],\n",
       "        [0.39676, 0.73976, 0.42844],\n",
       "        [0.60324, 0.26024, 0.92844],\n",
       "        [0.26024, 0.60324, 0.07156],\n",
       "        [0.73976, 0.39676, 0.57156],\n",
       "        [0.10324, 0.23976, 0.82156],\n",
       "        [0.89676, 0.76024, 0.32156],\n",
       "        [0.30004, 0.30004, 0.     ],\n",
       "        [0.69996, 0.69996, 0.5    ],\n",
       "        [0.19996, 0.80004, 0.25   ],\n",
       "        [0.80004, 0.19996, 0.75   ]]),\n",
       " 'std_rotation_matrix': array([[1., 0., 0.],\n",
       "        [0., 1., 0.],\n",
       "        [0., 0., 1.]]),\n",
       " 'std_mapping_to_primitive': array([ 0,  1,  2,  3,  4,  5,  6,  7,  8,  9, 10, 11], dtype=int32),\n",
       " 'pointgroup': '422'}"
      ]
     },
     "execution_count": 13,
     "metadata": {},
     "output_type": "execute_result"
    }
   ],
   "source": [
    "sym_info"
   ]
  },
  {
   "cell_type": "code",
   "execution_count": 14,
   "metadata": {},
   "outputs": [],
   "source": [
    "rotations = sym_info['rotations']\n",
    "translations = sym_info['translations']"
   ]
  },
  {
   "cell_type": "code",
   "execution_count": 15,
   "metadata": {},
   "outputs": [],
   "source": [
    "new_positions=(np.matmul(rotations[1],sym_info['std_positions'].T).T \n",
    "               + translations[1]) %1.0"
   ]
  },
  {
   "cell_type": "code",
   "execution_count": 16,
   "metadata": {},
   "outputs": [],
   "source": [
    "sio2.set_scaled_positions(new_positions)"
   ]
  },
  {
   "cell_type": "code",
   "execution_count": 17,
   "metadata": {},
   "outputs": [
    {
     "data": {
      "application/vnd.jupyter.widget-view+json": {
       "model_id": "63c9eaa0469e4cf0a9750561e71f4506",
       "version_major": 2,
       "version_minor": 0
      },
      "text/plain": [
       "HBox(children=(NGLWidget(), VBox(children=(Dropdown(description='Show', options=('All', 'O', 'Si'), value='All…"
      ]
     },
     "metadata": {},
     "output_type": "display_data"
    }
   ],
   "source": [
    "view(sio2,viewer='ngl')"
   ]
  },
  {
   "cell_type": "code",
   "execution_count": 18,
   "metadata": {},
   "outputs": [],
   "source": [
    "#v=_"
   ]
  },
  {
   "cell_type": "code",
   "execution_count": 19,
   "metadata": {},
   "outputs": [],
   "source": [
    "#hasattr(v.view,\"component\")"
   ]
  }
 ],
 "metadata": {
  "kernelspec": {
   "display_name": "Python 3 (ipykernel)",
   "language": "python",
   "name": "python3"
  },
  "language_info": {
   "codemirror_mode": {
    "name": "ipython",
    "version": 3
   },
   "file_extension": ".py",
   "mimetype": "text/x-python",
   "name": "python",
   "nbconvert_exporter": "python",
   "pygments_lexer": "ipython3",
   "version": "3.8.10"
  }
 },
 "nbformat": 4,
 "nbformat_minor": 4
}
