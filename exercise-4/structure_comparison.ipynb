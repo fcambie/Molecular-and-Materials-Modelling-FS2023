{
 "cells": [
  {
   "cell_type": "markdown",
   "metadata": {},
   "source": [
    "## "
   ]
  },
  {
   "cell_type": "code",
   "execution_count": null,
   "metadata": {},
   "outputs": [],
   "source": [
    "import itertools\n",
    "import numpy as np\n",
    "from numpy.linalg import norm\n",
    "from ase import Atoms\n",
    "from ase.spacegroup import crystal\n",
    "from ase.spacegroup import Spacegroup\n",
    "from ase.data import atomic_numbers, atomic_names\n",
    "from ase.io import read\n",
    "from ase.visualize import view\n",
    "import spglib\n",
    "import nglview\n",
    "from glob import glob"
   ]
  },
  {
   "cell_type": "code",
   "execution_count": null,
   "metadata": {},
   "outputs": [],
   "source": [
    "def ase_to_spgcell(ase_atoms=None, cell=None, inverse=False):\n",
    "    if not inverse:\n",
    "        assert ase_atoms is not None\n",
    "        return (ase_atoms.get_cell(),\n",
    "                ase_atoms.get_scaled_positions(),\n",
    "                ase_atoms.get_atomic_numbers())\n",
    "    else:\n",
    "        assert cell is not None\n",
    "        return Atoms(cell=cell[0],\n",
    "                     scaled_positions=cell[1],\n",
    "                     numbers=cell[2])"
   ]
  },
  {
   "cell_type": "code",
   "execution_count": null,
   "metadata": {},
   "outputs": [],
   "source": [
    "def a_equiv_b(a,b):\n",
    "    \"\"\"Function that identifies whether two crystals are equivalent\"\"\"\n",
    "\n",
    "    # getting symmetry datasets for both crystals\n",
    "    cryst_a = spglib.get_symmetry_dataset(ase_to_spgcell(ase_atoms=a), symprec=1e-5, angle_tolerance=-1.0, hall_number=0)\n",
    "    cryst_b = spglib.get_symmetry_dataset(ase_to_spgcell(ase_atoms=b), symprec=1e-5, angle_tolerance=-1.0, hall_number=0)\n",
    "\n",
    "    samecell = np.allclose(cryst_a['std_lattice'], cryst_b['std_lattice'], atol=1e-5)\n",
    "    samenatoms = len(cryst_a['std_positions']) == len(cryst_b['std_positions'])\n",
    "    samespg = cryst_a['number'] == cryst_b['number']\n",
    "    \n",
    "    def test_rotations_translations(cryst_a, cryst_b, repeat):\n",
    "        cell = cryst_a['std_lattice']\n",
    "        pristine = crystal('Mg', [(0, 0., 0.)], \n",
    "                           spacegroup=int(cryst_a['number']),\n",
    "                           cellpar=[cell[0]/repeat[0], cell[1]/repeat[1], cell[2]/repeat[2]]).repeat(repeat)\n",
    "\n",
    "        sym_set_p = spglib.get_symmetry_dataset(ase_to_spgcell(ase_atoms=pristine), symprec=1e-5,\n",
    "                                               angle_tolerance=-1.0, hall_number=0)\n",
    "\n",
    "        for _,trans in enumerate(zip(sym_set_p['rotations'], sym_set_p['translations'])):\n",
    "            pnew=(np.matmul(trans[0],cryst_a['std_positions'].T).T + trans[1]) % 1.0\n",
    "            fulln = np.concatenate([cryst_a['std_types'][:, None], pnew], axis=1)\n",
    "            fullb = np.concatenate([cryst_b['std_types'][:, None], cryst_b['std_positions']], axis=1)\n",
    "            sorted_n = np.array(sorted([ list(row) for row in list(fulln) ]))\n",
    "            sorted_b = np.array(sorted([ list(row) for row in list(fullb) ]))\n",
    "            if np.allclose(sorted_n, sorted_b, atol=1e-5):\n",
    "                return True\n",
    "        return False\n",
    "\n",
    "    if samecell and samenatoms and samespg:\n",
    "        cell = cryst_a['std_lattice']\n",
    "        rng1 = range(1, int(norm(cell[0])/2.)) # here I assuem that the smallest possible crystal has a\n",
    "        rng2 = range(1, int(norm(cell[1])/2.)) # unit cell of size 2\n",
    "        rng3 = range(1, int(norm(cell[2])/2.))\n",
    "\n",
    "        for repeat in itertools.product(rng1, rng2, rng3):\n",
    "            if test_rotations_translations(cryst_a, cryst_b, repeat):\n",
    "                return True\n",
    "\n",
    "    return False"
   ]
  },
  {
   "cell_type": "markdown",
   "metadata": {},
   "source": [
    "## Visualization of single structures"
   ]
  },
  {
   "cell_type": "code",
   "execution_count": null,
   "metadata": {},
   "outputs": [],
   "source": [
    "atoms = read('./quartz_alpha.xyz')\n",
    "#atoms = read('./quartz_alpha_v2.xyz')\n",
    "view(atoms,viewer='ngl')"
   ]
  },
  {
   "cell_type": "code",
   "execution_count": null,
   "metadata": {},
   "outputs": [],
   "source": [
    "v=_"
   ]
  },
  {
   "cell_type": "code",
   "execution_count": null,
   "metadata": {},
   "outputs": [],
   "source": [
    "# delete all old components\n",
    "while hasattr(v.view, \"component_0\"):\n",
    "    v.view.component_0.clear_representations()\n",
    "    cid = v.view.component_0.id\n",
    "    v.view.remove_component(cid)\n",
    "v.view.add_component(nglview.ASEStructure(atoms), \n",
    "                     default_representation=False)\n",
    "v.view.add_ball_and_stick(aspectRatio=2.0, opacity=1.0,component=0)\n",
    "v.view.add_unitcell()\n",
    "v.view.center()"
   ]
  },
  {
   "cell_type": "code",
   "execution_count": null,
   "metadata": {},
   "outputs": [],
   "source": [
    "cell = ase_to_spgcell(ase_atoms=atoms)\n",
    "lattice, scaled_positions, numbers = spglib.find_primitive(cell, symprec=1e-5)\n",
    "reduced = ase_to_spgcell(cell=(lattice, scaled_positions, numbers),inverse=True)"
   ]
  },
  {
   "cell_type": "markdown",
   "metadata": {},
   "source": [
    "## Structure comparison"
   ]
  },
  {
   "cell_type": "code",
   "execution_count": null,
   "metadata": {},
   "outputs": [],
   "source": [
    "versions = [(atoms,read(atoms)) for atoms in glob('./quartz_alpha*')]\n",
    "\n",
    "for outer in range(len(versions)-1):\n",
    "    for inner in range(outer+1,len(versions)):\n",
    "        print('Comparing: ',versions[outer][0],versions[inner][0])\n",
    "        print('Equivalent: ',a_equiv_b(versions[outer][1],versions[inner][1]))"
   ]
  },
  {
   "cell_type": "code",
   "execution_count": null,
   "metadata": {},
   "outputs": [],
   "source": []
  }
 ],
 "metadata": {
  "kernelspec": {
   "display_name": "Python 3 (ipykernel)",
   "language": "python",
   "name": "python3"
  },
  "language_info": {
   "codemirror_mode": {
    "name": "ipython",
    "version": 3
   },
   "file_extension": ".py",
   "mimetype": "text/x-python",
   "name": "python",
   "nbconvert_exporter": "python",
   "pygments_lexer": "ipython3",
   "version": "3.10.4"
  }
 },
 "nbformat": 4,
 "nbformat_minor": 4
}
