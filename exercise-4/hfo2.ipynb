{
 "cells": [
  {
   "cell_type": "code",
   "execution_count": 1,
   "metadata": {},
   "outputs": [
    {
     "data": {
      "application/vnd.jupyter.widget-view+json": {
       "model_id": "14911398bd904fa29633363ab069d016",
       "version_major": 2,
       "version_minor": 0
      },
      "text/plain": []
     },
     "metadata": {},
     "output_type": "display_data"
    }
   ],
   "source": [
    "from ase import Atoms\n",
    "from ase.spacegroup import crystal\n",
    "from ase.spacegroup import Spacegroup\n",
    "from ase.data import atomic_numbers, atomic_names\n",
    "from ase.visualize import view\n",
    "import nglview"
   ]
  },
  {
   "cell_type": "code",
   "execution_count": 2,
   "metadata": {},
   "outputs": [
    {
     "name": "stdout",
     "output_type": "stream",
     "text": [
      "[(array([[1, 0, 0],\n",
      "       [0, 1, 0],\n",
      "       [0, 0, 1]]), array([0., 0., 0.])), (array([[-1,  0,  0],\n",
      "       [ 0,  1,  0],\n",
      "       [ 0,  0, -1]]), array([0. , 0.5, 0.5])), (array([[-1,  0,  0],\n",
      "       [ 0, -1,  0],\n",
      "       [ 0,  0, -1]]), array([0., 0., 0.])), (array([[ 1,  0,  0],\n",
      "       [ 0, -1,  0],\n",
      "       [ 0,  0,  1]]), array([0. , 0.5, 0.5]))]\n"
     ]
    }
   ],
   "source": [
    "a=5.117\n",
    "b=5.175\n",
    "c=5.291\n",
    "alpha=90\n",
    "beta=99.22\n",
    "gamma=90\n",
    "thespacegroup=14\n",
    "print(Spacegroup(thespacegroup).get_symop())"
   ]
  },
  {
   "cell_type": "code",
   "execution_count": 3,
   "metadata": {},
   "outputs": [],
   "source": [
    "hfo2 = crystal(symbols=['Hf','O','O'],\n",
    "               basis=[(0.276,0.04,0.208),(0.074,0.332,0.347),(0.449,0.758,0.480)],\n",
    "               spacegroup=thespacegroup, \n",
    "               cellpar=[a, b, c, alpha, beta, gamma])"
   ]
  },
  {
   "cell_type": "code",
   "execution_count": 4,
   "metadata": {},
   "outputs": [
    {
     "data": {
      "application/vnd.jupyter.widget-view+json": {
       "model_id": "53a24d269eeb4d918f17827274ffd713",
       "version_major": 2,
       "version_minor": 0
      },
      "text/plain": [
       "HBox(children=(NGLWidget(), VBox(children=(Dropdown(description='Show', options=('All', 'O', 'Hf'), value='All…"
      ]
     },
     "metadata": {},
     "output_type": "display_data"
    }
   ],
   "source": [
    "view(hfo2, viewer='ngl')"
   ]
  },
  {
   "cell_type": "code",
   "execution_count": 5,
   "metadata": {},
   "outputs": [],
   "source": [
    "v=_"
   ]
  },
  {
   "cell_type": "code",
   "execution_count": 6,
   "metadata": {},
   "outputs": [],
   "source": [
    "# delete all old components\n",
    "while hasattr(v.view, \"component_0\"):\n",
    "    v.view.component_0.clear_representations()\n",
    "    cid = v.view.component_0.id\n",
    "    v.view.remove_component(cid)"
   ]
  },
  {
   "cell_type": "code",
   "execution_count": 7,
   "metadata": {},
   "outputs": [],
   "source": [
    "v.view.add_component(nglview.ASEStructure(hfo2), \n",
    "                     default_representation=False)\n",
    "v.view.add_ball_and_stick(aspectRatio=2.0, opacity=1.0,component=0)\n",
    "v.view.add_unitcell()\n",
    "v.view.center()\n"
   ]
  },
  {
   "cell_type": "code",
   "execution_count": 8,
   "metadata": {},
   "outputs": [
    {
     "name": "stdout",
     "output_type": "stream",
     "text": [
      "[[ 1.23595907  0.207       1.08630961]\n",
      " [ 3.4571637   2.7945      1.52501157]\n",
      " [ 3.03328647  4.968       4.13633276]\n",
      " [ 0.81208184  2.3805      3.6976308 ]\n",
      " [ 0.0844872   1.7181      1.8122569 ]\n",
      " [ 4.60863557  4.3056      0.79906428]\n",
      " [ 4.18475834  3.4569      3.41038547]\n",
      " [-0.33939003  0.8694      4.42357809]\n",
      " [ 1.89061086  3.92265     2.50686834]\n",
      " [ 2.80251191  1.33515     0.10445285]\n",
      " [ 2.37863468  1.25235     2.71577403]\n",
      " [ 1.46673363  3.83985     5.11818953]] [72 72 72 72  8  8  8  8  8  8  8  8]\n"
     ]
    }
   ],
   "source": [
    "print(hfo2.positions,hfo2.numbers)"
   ]
  },
  {
   "cell_type": "code",
   "execution_count": null,
   "metadata": {},
   "outputs": [],
   "source": []
  }
 ],
 "metadata": {
  "kernelspec": {
   "display_name": "Python 3 (ipykernel)",
   "language": "python",
   "name": "python3"
  },
  "language_info": {
   "codemirror_mode": {
    "name": "ipython",
    "version": 3
   },
   "file_extension": ".py",
   "mimetype": "text/x-python",
   "name": "python",
   "nbconvert_exporter": "python",
   "pygments_lexer": "ipython3",
   "version": "3.10.4"
  }
 },
 "nbformat": 4,
 "nbformat_minor": 4
}
